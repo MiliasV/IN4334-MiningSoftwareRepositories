{
 "cells": [
  {
   "cell_type": "markdown",
   "metadata": {},
   "source": [
    "# Examining the effects of ownership on software quality\n",
    "## The Case Of Lucene\n",
    "\n",
    "We want to replicate the [study](http://dl.acm.org/citation.cfm?doid=2025113.2025119 \"Examining the effects of ownership on software quality\") done by Bird et al. and published at FSE'11. The idea is to see the results of a similar investigation on an OSS system. We select [Lucene](https://lucene.apache.org/core/), a search engine written in Java."
   ]
  },
  {
   "cell_type": "markdown",
   "metadata": {},
   "source": [
    "## Data collection\n",
    "\n",
    "First we need to get the data to create our **table**, in other words we do what is called *data collection*.\n",
    "\n",
    "In our case, we are interested in checking the relation between some ownership related metrics and post-release bugs. We investigating this relation at *file level*, because we focus on Java and in this language the building blocks are the classes, which most of the time correspond 1-to-1 to files.\n",
    "\n",
    "This means that our table will have one row per each source code file and as many columns as the metrics we want to compute for that file, plus one column with the number of post release bugs."
   ]
  },
  {
   "cell_type": "markdown",
   "metadata": {},
   "source": [
    "### Collecting git data\n",
    "\n",
    "For computing most of the metrics we want to investigate (e.g., how many people changed a file in its entire history) we need to know the history of files. We can do so by analyzing the *versioning system*. In our case, Lucene has a Subversion repository, but a [git mirror](https://github.com/apache/lucene-solr.git) is also available. We use the git repository as it allows to have the entire history locally, thus making the computations faster."
   ]
  },
  {
   "cell_type": "markdown",
   "metadata": {},
   "source": [
    "We clone the repository. For this we use the python library 'sh'."
   ]
  },
  {
   "cell_type": "code",
   "execution_count": 1,
   "metadata": {
    "collapsed": false
   },
   "outputs": [],
   "source": [
    "import sh"
   ]
  },
  {
   "cell_type": "markdown",
   "metadata": {},
   "source": [
    "We start by cloning the repository"
   ]
  },
  {
   "cell_type": "code",
   "execution_count": 2,
   "metadata": {
    "collapsed": false,
    "scrolled": true
   },
   "outputs": [],
   "source": [
    "sh.git.clone(\"https://github.com/apache/lucene-solr.git\")"
   ]
  },
  {
   "cell_type": "markdown",
   "metadata": {},
   "source": [
    "And we make sure that we point our 'git' command to the right directory."
   ]
  },
  {
   "cell_type": "code",
   "execution_count": 3,
   "metadata": {
    "collapsed": false
   },
   "outputs": [
    {
     "data": {
      "text/plain": [
       "\u001b[31mHEAD detached at \u001b[mb5db48c\n",
       "nothing to commit, working tree clean"
      ]
     },
     "execution_count": 3,
     "metadata": {},
     "output_type": "execute_result"
    }
   ],
   "source": [
    "git = sh.git.bake(_cwd='lucene-solr')\n",
    "git.status()"
   ]
  },
  {
   "cell_type": "markdown",
   "metadata": {},
   "source": [
    "To perform the replication, we could either reason in terms of releases (see [list of Lucene releases](http://archive.apache.org/dist/lucene/java/)), or we could just inspect the 'trunk' in the versioning system and start from a given date.\n",
    "\n",
    "In this assignment, we go for the second option: We consider the 'master' branch and focus on a 6-month period in which we look at the bugs occurring to the files existing at that moment. Concerning bug data, you will consider a time window from Feb 01, 2015 to Jul 31, 2015."
   ]
  },
  {
   "cell_type": "markdown",
   "metadata": {},
   "source": [
    "#### Retrieving list of files on Feb 1, 2015\n",
    "\n",
    "Let's retrieve the list of files existing in the trunk on Feb 01, 2015."
   ]
  },
  {
   "cell_type": "code",
   "execution_count": 4,
   "metadata": {
    "collapsed": false
   },
   "outputs": [
    {
     "data": {
      "text/plain": [
       "'b5db48c783e9d0dc19c087101f03d8834b201106'"
      ]
     },
     "execution_count": 4,
     "metadata": {},
     "output_type": "execute_result"
    }
   ],
   "source": [
    "sha_feb_15 = str(git(\"rev-list\", \"master\", n=1, before=\"2015-02-01 00:01\"))[:-1]\n",
    "sha_feb_15"
   ]
  },
  {
   "cell_type": "markdown",
   "metadata": {},
   "source": [
    "Now that we have the hash of the commit we're interested in, we checkout the commit"
   ]
  },
  {
   "cell_type": "code",
   "execution_count": 5,
   "metadata": {
    "collapsed": false,
    "scrolled": true
   },
   "outputs": [
    {
     "data": {
      "text/plain": [
       "\u001b[31mHEAD detached at \u001b[mb5db48c\n",
       "nothing to commit, working tree clean"
      ]
     },
     "execution_count": 5,
     "metadata": {},
     "output_type": "execute_result"
    }
   ],
   "source": [
    "git.checkout(sha_feb_15)\n",
    "git.status()"
   ]
  },
  {
   "cell_type": "markdown",
   "metadata": {},
   "source": [
    "We then get the list of Java files in the folder `lucene/core/src/java/org/apache/lucene`, which contains the core of the software."
   ]
  },
  {
   "cell_type": "code",
   "execution_count": 6,
   "metadata": {
    "collapsed": false
   },
   "outputs": [
    {
     "data": {
      "text/plain": [
       "['lucene/core/src/java/org/apache/lucene/LucenePackage.java',\n",
       " 'lucene/core/src/java/org/apache/lucene/analysis/Analyzer.java',\n",
       " 'lucene/core/src/java/org/apache/lucene/analysis/AnalyzerWrapper.java',\n",
       " 'lucene/core/src/java/org/apache/lucene/analysis/CachingTokenFilter.java',\n",
       " 'lucene/core/src/java/org/apache/lucene/analysis/CharFilter.java',\n",
       " 'lucene/core/src/java/org/apache/lucene/analysis/DelegatingAnalyzerWrapper.java',\n",
       " 'lucene/core/src/java/org/apache/lucene/analysis/NumericTokenStream.java',\n",
       " 'lucene/core/src/java/org/apache/lucene/analysis/ReusableStringReader.java',\n",
       " 'lucene/core/src/java/org/apache/lucene/analysis/Token.java',\n",
       " 'lucene/core/src/java/org/apache/lucene/analysis/TokenFilter.java']"
      ]
     },
     "execution_count": 6,
     "metadata": {},
     "output_type": "execute_result"
    }
   ],
   "source": [
    "file_list_feb_15 = sh.find('lucene/core/src/java/org/apache/lucene', '-type', 'f', '-name', '*.java', _cwd='lucene-solr').split(\"\\n\")[:-1]\n",
    "file_list_feb_15[:10] # visualizing first 10 elements for readability"
   ]
  },
  {
   "cell_type": "markdown",
   "metadata": {},
   "source": [
    "#### Retrieving commits between Jan 2, 2014 and Feb 1, 2015\n",
    "We now retrieve the list of commit hashes between 2014-01-02 00:23:24 (43974d668667ba1b1dacf26a18a22c7fea909539) and 2015-02-01 00:01 (b5db48c783e9d0dc19c087101f03d8834b201106)"
   ]
  },
  {
   "cell_type": "code",
   "execution_count": 7,
   "metadata": {
    "collapsed": false
   },
   "outputs": [
    {
     "data": {
      "text/plain": [
       "['b5db48c783e9d0dc19c087101f03d8834b201106',\n",
       " 'a705371bfce8227f8aa24c152f133330437afae4',\n",
       " '97e0a1c8ad9a47f77823e44d75205b9f30fd2257',\n",
       " 'fd35bd5ae4496bd94affa37f99f5f0294caf894b',\n",
       " '669e9cf617c532442de87a36b21258898b669c42',\n",
       " '0068708e149c1a4a645474aee0f2ad91f8de266a',\n",
       " '84ffb0855fec76a4d1e6021124c4e00d2ba785e4',\n",
       " '142a75624df0e5471fb52859c97eddcad2eb1f82',\n",
       " 'b696595cc6f2ef09dfb2dbd347e64d7abdb6df9a',\n",
       " '1f131a6b2061017dbd595b40ce70921f81a8ff10']"
      ]
     },
     "execution_count": 7,
     "metadata": {},
     "output_type": "execute_result"
    }
   ],
   "source": [
    "commit_hashes_firstpart = git('rev-list', 'master', after=\"2014-01-02 00:23:24\", before=\"2015-02-01 00:01\").split('\\n')[:-1]\n",
    "commit_hashes_firstpart[:10]"
   ]
  },
  {
   "cell_type": "markdown",
   "metadata": {},
   "source": [
    "#### Computing ownership values\n",
    "\n",
    "To compute the ownership values, we will use an object with this structure\n",
    "\n",
    "    struct = {\n",
    "        'path_of_file_1': {\n",
    "            'contributors': {\n",
    "                'author_1': 10,\n",
    "                'author_2': 5\n",
    "            }\n",
    "        },\n",
    "        'path_of_file_2': {\n",
    "            'contributors': {\n",
    "                'author_1': 8,\n",
    "                'author_2': 4\n",
    "            }\n",
    "        }\n",
    "    }\n",
    "    \n",
    "where the keys of the dictionary are the paths of the files present on Feb 1, 2015, and the values are dictionaries containing the contributions information relative to the file.\n",
    "\n",
    "The first step is then to create the object structure using the list of files we found as keys, and `{'contributors': {}}` as values"
   ]
  },
  {
   "cell_type": "code",
   "execution_count": 8,
   "metadata": {
    "collapsed": false
   },
   "outputs": [],
   "source": [
    "struct = {}\n",
    "for file_path in file_list_feb_15:\n",
    "    struct[file_path] = {'contributors': {}}"
   ]
  },
  {
   "cell_type": "markdown",
   "metadata": {},
   "source": [
    "Now, for every commit in the list we have found, we get the author's email and the list of files that have been modified. Then we modify the structure accordingly"
   ]
  },
  {
   "cell_type": "code",
   "execution_count": 9,
   "metadata": {
    "collapsed": false,
    "scrolled": false
   },
   "outputs": [
    {
     "data": {
      "text/plain": [
       "[('lucene/core/src/java/org/apache/lucene/util/packed/Direct16.java',\n",
       "  {'contributors': {'jpountz@apache.org': 1, 'rmuir@apache.org': 1}}),\n",
       " ('lucene/core/src/java/org/apache/lucene/search/PhraseQuery.java',\n",
       "  {'contributors': {'mikemccand@apache.org': 1,\n",
       "    'rjernst@apache.org': 1,\n",
       "    'rmuir@apache.org': 3}}),\n",
       " ('lucene/core/src/java/org/apache/lucene/util/packed/BulkOperationPacked24.java',\n",
       "  {'contributors': {}}),\n",
       " ('lucene/core/src/java/org/apache/lucene/analysis/CharFilter.java',\n",
       "  {'contributors': {}}),\n",
       " ('lucene/core/src/java/org/apache/lucene/index/FreqProxFields.java',\n",
       "  {'contributors': {'jpountz@apache.org': 1,\n",
       "    'mikemccand@apache.org': 7,\n",
       "    'rmuir@apache.org': 1}}),\n",
       " ('lucene/core/src/java/org/apache/lucene/search/similarities/BasicStats.java',\n",
       "  {'contributors': {}}),\n",
       " ('lucene/core/src/java/org/apache/lucene/codecs/DocValuesProducer.java',\n",
       "  {'contributors': {'jpountz@apache.org': 1, 'rmuir@apache.org': 5}}),\n",
       " ('lucene/core/src/java/org/apache/lucene/search/NumericRangeQuery.java',\n",
       "  {'contributors': {'jpountz@apache.org': 1,\n",
       "    'mikemccand@apache.org': 1,\n",
       "    'rmuir@apache.org': 1}}),\n",
       " ('lucene/core/src/java/org/apache/lucene/util/packed/BulkOperationPacked20.java',\n",
       "  {'contributors': {}}),\n",
       " ('lucene/core/src/java/org/apache/lucene/codecs/compressing/CompressingTermVectorsWriter.java',\n",
       "  {'contributors': {'jpountz@apache.org': 1,\n",
       "    'mikemccand@apache.org': 2,\n",
       "    'rjernst@apache.org': 1,\n",
       "    'rmuir@apache.org': 14}})]"
      ]
     },
     "execution_count": 9,
     "metadata": {},
     "output_type": "execute_result"
    }
   ],
   "source": [
    "for commit in commit_hashes_firstpart:\n",
    "    commit_info = git.show('--name-only', commit, pretty='%ae').split('\\n')\n",
    "    \n",
    "    author = commit_info[0] # the first line is the author\n",
    "    changed_files = commit_info[2:-1] # the last lines are the changed files\n",
    "\n",
    "    for file in changed_files:\n",
    "        if file in struct:\n",
    "            if author in struct[file]['contributors']:\n",
    "                struct[file]['contributors'][author] += 1\n",
    "            else:\n",
    "                struct[file]['contributors'][author] = 1\n",
    "\n",
    "import itertools\n",
    "list(itertools.islice(struct.items(), 10)) # visualizing first 10 elements for readability"
   ]
  },
  {
   "cell_type": "markdown",
   "metadata": {
    "collapsed": true
   },
   "source": [
    "Now we are able to compute the actual ownership values. We will store them in the same structure in this way\n",
    "\n",
    "    struct = {\n",
    "        'path_of_file_1': {\n",
    "            'contributors': {\n",
    "                'author_1': 10,\n",
    "                'author_2': 5\n",
    "            },\n",
    "            'values': {\n",
    "                'total': 0,\n",
    "                'major': 1,\n",
    "                'minor': 2,\n",
    "                'ownership': 0.5\n",
    "            }\n",
    "        },\n",
    "        'path_of_file_2': {\n",
    "            'contributors': {\n",
    "                'author_1': 8,\n",
    "                'author_2': 4\n",
    "            },\n",
    "            'values': {\n",
    "                'total': 0,\n",
    "                'major': 1,\n",
    "                'minor': 2,\n",
    "                'ownership': 0.5\n",
    "            }\n",
    "        }\n",
    "    }"
   ]
  },
  {
   "cell_type": "code",
   "execution_count": 10,
   "metadata": {
    "collapsed": false,
    "scrolled": true
   },
   "outputs": [
    {
     "data": {
      "text/plain": [
       "[('lucene/core/src/java/org/apache/lucene/util/packed/Direct16.java',\n",
       "  {'contributors': {'jpountz@apache.org': 1, 'rmuir@apache.org': 1},\n",
       "   'values': {'bug_n': 0,\n",
       "    'major': 1,\n",
       "    'minor': 0,\n",
       "    'ownership': 0.5,\n",
       "    'total': 2}}),\n",
       " ('lucene/core/src/java/org/apache/lucene/search/PhraseQuery.java',\n",
       "  {'contributors': {'mikemccand@apache.org': 1,\n",
       "    'rjernst@apache.org': 1,\n",
       "    'rmuir@apache.org': 3},\n",
       "   'values': {'bug_n': 0,\n",
       "    'major': 2,\n",
       "    'minor': 0,\n",
       "    'ownership': 0.6,\n",
       "    'total': 3}}),\n",
       " ('lucene/core/src/java/org/apache/lucene/util/packed/BulkOperationPacked24.java',\n",
       "  {'contributors': {}}),\n",
       " ('lucene/core/src/java/org/apache/lucene/analysis/CharFilter.java',\n",
       "  {'contributors': {}}),\n",
       " ('lucene/core/src/java/org/apache/lucene/index/FreqProxFields.java',\n",
       "  {'contributors': {'jpountz@apache.org': 1,\n",
       "    'mikemccand@apache.org': 7,\n",
       "    'rmuir@apache.org': 1},\n",
       "   'values': {'bug_n': 0,\n",
       "    'major': 2,\n",
       "    'minor': 0,\n",
       "    'ownership': 0.7777777777777778,\n",
       "    'total': 3}}),\n",
       " ('lucene/core/src/java/org/apache/lucene/search/similarities/BasicStats.java',\n",
       "  {'contributors': {}}),\n",
       " ('lucene/core/src/java/org/apache/lucene/codecs/DocValuesProducer.java',\n",
       "  {'contributors': {'jpountz@apache.org': 1, 'rmuir@apache.org': 5},\n",
       "   'values': {'bug_n': 0,\n",
       "    'major': 1,\n",
       "    'minor': 0,\n",
       "    'ownership': 0.8333333333333334,\n",
       "    'total': 2}}),\n",
       " ('lucene/core/src/java/org/apache/lucene/search/NumericRangeQuery.java',\n",
       "  {'contributors': {'jpountz@apache.org': 1,\n",
       "    'mikemccand@apache.org': 1,\n",
       "    'rmuir@apache.org': 1},\n",
       "   'values': {'bug_n': 0,\n",
       "    'major': 2,\n",
       "    'minor': 0,\n",
       "    'ownership': 0.3333333333333333,\n",
       "    'total': 3}}),\n",
       " ('lucene/core/src/java/org/apache/lucene/util/packed/BulkOperationPacked20.java',\n",
       "  {'contributors': {}}),\n",
       " ('lucene/core/src/java/org/apache/lucene/codecs/compressing/CompressingTermVectorsWriter.java',\n",
       "  {'contributors': {'jpountz@apache.org': 1,\n",
       "    'mikemccand@apache.org': 2,\n",
       "    'rjernst@apache.org': 1,\n",
       "    'rmuir@apache.org': 14},\n",
       "   'values': {'bug_n': 0,\n",
       "    'major': 3,\n",
       "    'minor': 0,\n",
       "    'ownership': 0.7777777777777778,\n",
       "    'total': 4}})]"
      ]
     },
     "execution_count": 10,
     "metadata": {},
     "output_type": "execute_result"
    }
   ],
   "source": [
    "for file_path, authors_info in struct.items():\n",
    "    if authors_info['contributors']:\n",
    "        contributors_info = authors_info['contributors']\n",
    "        total_n_commits, major, minor = 0, 0, 0\n",
    "    \n",
    "        owner = max(contributors_info.keys(), key=(lambda key: contributors_info[key]))\n",
    "        total = len(contributors_info)\n",
    "        total_n_commits = sum(contributors_info.values())\n",
    "        owner_ownership = contributors_info[owner] / total_n_commits\n",
    "        \n",
    "        for author_name, n_commits in contributors_info.items():\n",
    "            if author_name != owner:\n",
    "                ownership = n_commits / total_n_commits\n",
    "                \n",
    "                if ownership > 0.05:\n",
    "                    major += 1\n",
    "                else:\n",
    "                    minor += 1\n",
    "    \n",
    "        struct[file_path]['values'] = {\n",
    "            'ownership': owner_ownership,\n",
    "            'total': total,\n",
    "            'major': major,\n",
    "            'minor': minor,\n",
    "            'bug_n': 0\n",
    "        }\n",
    "        \n",
    "list(itertools.islice(struct.items(), 10))"
   ]
  },
  {
   "cell_type": "markdown",
   "metadata": {},
   "source": [
    "#### Retrieving commits between Feb 1, 2015 and Aug 1, 2015\n",
    "\n",
    "The next step is to retrieve the commits information from 2015-02-01 00:02 to 2015-08-01 00:00. We will use this information to look up on Jira for bugfixes."
   ]
  },
  {
   "cell_type": "code",
   "execution_count": 11,
   "metadata": {
    "collapsed": false
   },
   "outputs": [
    {
     "data": {
      "text/plain": [
       "[{'hash': '7b412fdc630081ef8299952e1ea583eee5e89197',\n",
       "  'title': 'Remove JRockit (no longer supported)'},\n",
       " {'hash': '5f5ab2a79fb643ee69b6a654d9664f9dd5898411',\n",
       "  'title': 'SOLR-2522: new two argument option for the existing field() function; picks the min/max value of a docValues field to use as a ValueSource: \"field(field_name,min)\" and \"field(field_name,max)\"'},\n",
       " {'hash': '22d67a637acb75b486f4e6ff9f599f0f4a505c1a',\n",
       "  'title': 'SOLR-7823: TestMiniSolrCloudCluster.testCollectionCreateSearchDelete async collection-creation (sometimes)'},\n",
       " {'hash': '81df57baa28adcb3d0c5952015f7bcff85ff463e',\n",
       "  'title': 'SOLR-5022: Merged revision(s) 1693559 from lucene/dev/branches/branch_5x: cleanup outdated Java 7 stuff'},\n",
       " {'hash': '57a15d9278ece538b765afd6d5b68e6db4cdd2a9',\n",
       "  'title': 'SOLR-6625: Remove RequestInterceptor at the end of the test in BasicHttpSolrClientTest. It was interfering with other tests running the same JVM.'},\n",
       " {'hash': 'f8ae631751ae98ca770d8f387793d9846db62c48',\n",
       "  'title': 'LUCENE-6702: Add a method to inject context values at index time in ContextSuggestField and simplify ContextQuery and add dedicated method to consider all contexts at query time'},\n",
       " {'hash': 'caace607e8ae1b807f31048b13fdde44bd037e01',\n",
       "  'title': 'SOLR-7852 Hide cores menu when dashboard link clicked'},\n",
       " {'hash': 'ba50839c99222d422d17ece938d40240b3fcff6e',\n",
       "  'title': 'SOLR-7851 Angular analysis tab tweaks'},\n",
       " {'hash': '9cb8523c598e543ea1ddf5d77f43aebe8b329d9d',\n",
       "  'title': 'SOLR-6625: Set HttpClientImpl in SolrTestCaseJ4 for tests'},\n",
       " {'hash': 'a3cff55407a4478ddd9d82fd3ec6fa787175d513',\n",
       "  'title': 'LUCENE-6621: Removed two unused variables in analysis/stempel/src/java/org/egothor/stemmer/Compile.java'}]"
      ]
     },
     "execution_count": 11,
     "metadata": {},
     "output_type": "execute_result"
    }
   ],
   "source": [
    "temp_commithashes_list = git('rev-list', 'master', pretty='oneline', after=\"2015-02-01 00:02\", before=\"2015-08-01 00:00\").split('\\n')[:-1]\n",
    "\n",
    "commit_hashes_secondpart = [{'title': commit[41:], 'hash': commit[:40]} for commit in temp_commithashes_list]\n",
    "\n",
    "commit_hashes_secondpart[:10]"
   ]
  },
  {
   "cell_type": "markdown",
   "metadata": {},
   "source": [
    "#### Computing bugs number\n",
    "\n",
    "Since we are interested only in commits that correspond to a bugfix in Jira, we are looking for those that have in the title the code of an issue (i.e., LUCENE-XXXX).\n",
    "\n",
    "For every commit we find that corresponds to an issue, we make a query to the Jira REST API to check if it's relative to a bugfix."
   ]
  },
  {
   "cell_type": "code",
   "execution_count": 12,
   "metadata": {
    "collapsed": false,
    "scrolled": false
   },
   "outputs": [
    {
     "data": {
      "text/plain": [
       "[('lucene/core/src/java/org/apache/lucene/util/packed/Direct16.java',\n",
       "  {'contributors': {'jpountz@apache.org': 1, 'rmuir@apache.org': 1},\n",
       "   'values': {'bug_n': 0,\n",
       "    'major': 1,\n",
       "    'minor': 0,\n",
       "    'ownership': 0.5,\n",
       "    'total': 2}}),\n",
       " ('lucene/core/src/java/org/apache/lucene/search/PhraseQuery.java',\n",
       "  {'contributors': {'mikemccand@apache.org': 1,\n",
       "    'rjernst@apache.org': 1,\n",
       "    'rmuir@apache.org': 3},\n",
       "   'values': {'bug_n': 24,\n",
       "    'major': 2,\n",
       "    'minor': 0,\n",
       "    'ownership': 0.6,\n",
       "    'total': 3}}),\n",
       " ('lucene/core/src/java/org/apache/lucene/util/packed/BulkOperationPacked24.java',\n",
       "  {'contributors': {}}),\n",
       " ('lucene/core/src/java/org/apache/lucene/analysis/CharFilter.java',\n",
       "  {'contributors': {}}),\n",
       " ('lucene/core/src/java/org/apache/lucene/index/FreqProxFields.java',\n",
       "  {'contributors': {'jpountz@apache.org': 1,\n",
       "    'mikemccand@apache.org': 7,\n",
       "    'rmuir@apache.org': 1},\n",
       "   'values': {'bug_n': 6,\n",
       "    'major': 2,\n",
       "    'minor': 0,\n",
       "    'ownership': 0.7777777777777778,\n",
       "    'total': 3}}),\n",
       " ('lucene/core/src/java/org/apache/lucene/search/similarities/BasicStats.java',\n",
       "  {'contributors': {}}),\n",
       " ('lucene/core/src/java/org/apache/lucene/codecs/DocValuesProducer.java',\n",
       "  {'contributors': {'jpountz@apache.org': 1, 'rmuir@apache.org': 5},\n",
       "   'values': {'bug_n': 0,\n",
       "    'major': 1,\n",
       "    'minor': 0,\n",
       "    'ownership': 0.8333333333333334,\n",
       "    'total': 2}}),\n",
       " ('lucene/core/src/java/org/apache/lucene/search/NumericRangeQuery.java',\n",
       "  {'contributors': {'jpountz@apache.org': 1,\n",
       "    'mikemccand@apache.org': 1,\n",
       "    'rmuir@apache.org': 1},\n",
       "   'values': {'bug_n': 3,\n",
       "    'major': 2,\n",
       "    'minor': 0,\n",
       "    'ownership': 0.3333333333333333,\n",
       "    'total': 3}}),\n",
       " ('lucene/core/src/java/org/apache/lucene/util/packed/BulkOperationPacked20.java',\n",
       "  {'contributors': {}}),\n",
       " ('lucene/core/src/java/org/apache/lucene/codecs/compressing/CompressingTermVectorsWriter.java',\n",
       "  {'contributors': {'jpountz@apache.org': 1,\n",
       "    'mikemccand@apache.org': 2,\n",
       "    'rjernst@apache.org': 1,\n",
       "    'rmuir@apache.org': 14},\n",
       "   'values': {'bug_n': 0,\n",
       "    'major': 3,\n",
       "    'minor': 0,\n",
       "    'ownership': 0.7777777777777778,\n",
       "    'total': 4}})]"
      ]
     },
     "execution_count": 12,
     "metadata": {},
     "output_type": "execute_result"
    }
   ],
   "source": [
    "import re # we use the Regular Expressions module to filter out the commits relative to issues\n",
    "import requests\n",
    "\n",
    "base_url_jira_api = 'https://issues.apache.org/jira/rest/api/latest/issue/'\n",
    "\n",
    "def addbug(changed_files):\n",
    "    for file_path in changed_file_list:\n",
    "        if file_path in struct and 'values' in struct[file_path]:\n",
    "            struct[file_path]['values']['bug_n'] += 1\n",
    "\n",
    "id_type_cache = {}\n",
    "for commit in commit_hashes_secondpart:\n",
    "    match = re.search(r'LUCENE-\\d{4}', commit['title'])\n",
    "    \n",
    "    if match:\n",
    "        issue_id = match.group()\n",
    "        changed_file_list = git.show('--name-only', commit['hash'], pretty='').split('\\n')[:-1]\n",
    "        \n",
    "        if issue_id in id_type_cache:\n",
    "            if id_type_cache[issue_id] == 'Bug':\n",
    "                addbug(changed_files)\n",
    "            else:\n",
    "                continue\n",
    "        else:\n",
    "            issue_res = requests.get(base_url_jira_api + issue_id)\n",
    "\n",
    "            if issue_res.status_code == 200:\n",
    "                issue_type = issue_res.json()['fields']['issuetype']['name']\n",
    "                id_type_cache[issue_id] = issue_type\n",
    "\n",
    "                if issue_type == 'Bug':\n",
    "                    addbug(changed_files)\n",
    "                        \n",
    "list(itertools.islice(struct.items(), 10))"
   ]
  },
  {
   "cell_type": "markdown",
   "metadata": {},
   "source": [
    "#### Saving the results in a CSV file\n",
    "\n",
    "The last step is to save the results we've found in a CSV file. We keep only files/classes for which we have information about the contributors in the specified timespan."
   ]
  },
  {
   "cell_type": "code",
   "execution_count": 13,
   "metadata": {
    "collapsed": false
   },
   "outputs": [],
   "source": [
    "import csv\n",
    "\n",
    "with open('datacollection.csv', 'w', newline='') as csvfile:\n",
    "    fieldnames = ['file_name', 'package', 'minor', 'major', 'total', 'ownership', 'num_of_bugs']\n",
    "    writer = csv.DictWriter(csvfile, fieldnames=fieldnames, delimiter=';')\n",
    "    \n",
    "    writer.writeheader()\n",
    "    \n",
    "    for filepath, info in struct.items():\n",
    "        if info['contributors']:\n",
    "            tempsplit = filepath.split('/org/')[1].split('/')\n",
    "            filename = tempsplit[-1]\n",
    "            \n",
    "            partial_package = tempsplit[:-1]\n",
    "            package = 'org.' + '.'.join(partial_package)\n",
    "    \n",
    "            values = info['values']\n",
    "    \n",
    "            writer.writerow({\n",
    "                    'file_name': filename,\n",
    "                    'package': package,\n",
    "                    'minor': values['minor'],\n",
    "                    'major': values['major'],\n",
    "                    'total': values['total'],\n",
    "                    'ownership': values['ownership'],\n",
    "                    'num_of_bugs': values['bug_n']\n",
    "            })"
   ]
  }
 ],
 "metadata": {
  "kernelspec": {
   "display_name": "Python 3",
   "language": "python",
   "name": "python3"
  },
  "language_info": {
   "codemirror_mode": {
    "name": "ipython",
    "version": 3
   },
   "file_extension": ".py",
   "mimetype": "text/x-python",
   "name": "python",
   "nbconvert_exporter": "python",
   "pygments_lexer": "ipython3",
   "version": "3.5.2"
  }
 },
 "nbformat": 4,
 "nbformat_minor": 1
}
